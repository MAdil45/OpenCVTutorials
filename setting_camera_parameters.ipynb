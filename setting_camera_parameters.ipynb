{
 "cells": [
  {
   "cell_type": "code",
   "execution_count": 1,
   "id": "10f1830b-2500-4544-88f0-a7d3c47f3074",
   "metadata": {},
   "outputs": [],
   "source": [
    "import cv2 as cv\n",
    "import numpy as np"
   ]
  },
  {
   "cell_type": "code",
   "execution_count": 2,
   "id": "c40ee6ac-be27-4529-9e06-775ed5226a30",
   "metadata": {},
   "outputs": [
    {
     "name": "stdout",
     "output_type": "stream",
     "text": [
      "480.0\n",
      "640.0\n"
     ]
    }
   ],
   "source": [
    "## lets first capture the frames from webcame\n",
    "cap = cv.VideoCapture(0)\n",
    "print(cap.get(cv.CAP_PROP_FRAME_HEIGHT))\n",
    "print(cap.get(cv.CAP_PROP_FRAME_WIDTH))\n",
    "while (cap.isOpened()):\n",
    "    boolean, frame = cap.read()\n",
    "    if boolean == True:\n",
    "        gray = cv.cvtColor(frame, cv.COLOR_BGR2GRAY)\n",
    "        cv.imshow('Frame', gray)\n",
    "        # print(cap.get(cv.CAP_PROP_FRAME_HEIGHT))\n",
    "        # print(cap.get(cv.CAP_PROP_FRAME_WIDTH))\n",
    "        if cv.waitKey(1) & 0xFF==ord('q'):\n",
    "            break\n",
    "    else:\n",
    "        break\n",
    "cap.release()\n",
    "cv.destroyAllWindows()"
   ]
  },
  {
   "cell_type": "code",
   "execution_count": 3,
   "id": "45ed057a-7ce2-45ca-ad7b-f372c83e6dce",
   "metadata": {},
   "outputs": [
    {
     "name": "stdout",
     "output_type": "stream",
     "text": [
      "480.0\n",
      "640.0\n"
     ]
    }
   ],
   "source": [
    "## as we have read in getting started with video to get the properties, \n",
    "## similarly we can also set the properties given that it is available in .get() method\n",
    "## note that every property has number associated with it, like cv.CAP_PROP_FRAME_HEIGHT == 4, cv.CAP_PROP_FRAME_WIDTH ==3,\n",
    "## so we can access them using these numbers too: as\n",
    "\n",
    "cap = cv.VideoCapture(0)\n",
    "print(cap.get(4))\n",
    "print(cap.get(3))\n",
    "while (cap.isOpened()):\n",
    "    boolean, frame = cap.read()\n",
    "    if boolean == True:\n",
    "        gray = cv.cvtColor(frame, cv.COLOR_BGR2GRAY)\n",
    "        cv.imshow('Frame', gray)\n",
    "        if cv.waitKey(1) & 0xFF==ord('q'):\n",
    "            break\n",
    "    else:\n",
    "        break\n",
    "cap.release()\n",
    "cv.destroyAllWindows()"
   ]
  },
  {
   "cell_type": "code",
   "execution_count": 13,
   "id": "b1bca34a-a3a2-4ac2-8a6a-d6b32e08429a",
   "metadata": {},
   "outputs": [
    {
     "name": "stdout",
     "output_type": "stream",
     "text": [
      "1280.0\n",
      "720.0\n"
     ]
    }
   ],
   "source": [
    "## now lets set the height and width and access the webcam again\n",
    "cap = cv.VideoCapture(0)\n",
    "cap.set(3, 1280) ## setting width to 1280\n",
    "cap.set(4, 720) ## setting height to 720\n",
    "\n",
    "print(cap.get(3))\n",
    "print(cap.get(4))\n",
    "while (cap.isOpened()):\n",
    "    boolean, frame = cap.read()\n",
    "    if boolean == True:\n",
    "        gray = cv.cvtColor(frame, cv.COLOR_BGR2GRAY)\n",
    "        cv.imshow('Frame', gray)\n",
    "        if cv.waitKey(1) & 0xFF==ord('q'):\n",
    "            break\n",
    "    else:\n",
    "        break\n",
    "cap.release()\n",
    "cv.destroyAllWindows()"
   ]
  },
  {
   "cell_type": "code",
   "execution_count": null,
   "id": "7c2dae54-16d2-4625-811a-ca71cd5047ce",
   "metadata": {},
   "outputs": [],
   "source": []
  }
 ],
 "metadata": {
  "kernelspec": {
   "display_name": "Python 3 (ipykernel)",
   "language": "python",
   "name": "python3"
  },
  "language_info": {
   "codemirror_mode": {
    "name": "ipython",
    "version": 3
   },
   "file_extension": ".py",
   "mimetype": "text/x-python",
   "name": "python",
   "nbconvert_exporter": "python",
   "pygments_lexer": "ipython3",
   "version": "3.9.12"
  }
 },
 "nbformat": 4,
 "nbformat_minor": 5
}
