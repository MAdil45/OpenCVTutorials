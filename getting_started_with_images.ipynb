{
 "cells": [
  {
   "cell_type": "code",
   "execution_count": 1,
   "id": "850c2394-b751-4b9f-a5f9-43c7bb2bf42b",
   "metadata": {},
   "outputs": [],
   "source": [
    "import cv2 as cv\n",
    "import numpy as np\n"
   ]
  },
  {
   "cell_type": "code",
   "execution_count": 2,
   "id": "8e5c37ae-7fb6-439c-a2a0-b7c6b20fa560",
   "metadata": {},
   "outputs": [
    {
     "data": {
      "text/plain": [
       "array([[163, 162, 161, ..., 170, 154, 130],\n",
       "       [162, 162, 162, ..., 173, 155, 126],\n",
       "       [162, 162, 163, ..., 170, 155, 128],\n",
       "       ...,\n",
       "       [ 43,  42,  51, ..., 103, 101,  99],\n",
       "       [ 41,  42,  55, ..., 103, 105, 106],\n",
       "       [ 42,  44,  57, ..., 102, 106, 109]], dtype=uint8)"
      ]
     },
     "execution_count": 2,
     "metadata": {},
     "output_type": "execute_result"
    }
   ],
   "source": [
    "## Reading a image\n",
    "# will be usingcv2.imread('filename', flag)\n",
    "# flag values are: [0,1,-1], 0 = reading image in grayscale. 1 = reading image as a color, -1 = reading image as such it is\n",
    "cv.imread(\"./opencv_data/lena/lena.jpg\", 0) ## reding image as grayscale"
   ]
  },
  {
   "cell_type": "code",
   "execution_count": 3,
   "id": "1f1bd0d3-9ac5-4ac8-b36b-b335e546eabb",
   "metadata": {},
   "outputs": [
    {
     "name": "stdout",
     "output_type": "stream",
     "text": [
      "None\n"
     ]
    }
   ],
   "source": [
    "## loading a wrong image to see what will happen\n",
    "img = cv.imread(\"./opencv_data/lena/lenaaaaa.jpg\", 0)\n",
    "print(img)"
   ]
  },
  {
   "cell_type": "code",
   "execution_count": 4,
   "id": "9f38caeb-3979-41c0-b112-88da7dcfb58e",
   "metadata": {},
   "outputs": [],
   "source": [
    "## as can be seen the code run perfectly fine but provided None value, as there is no such file\n",
    "## lets read the correct one\n",
    "img = cv.imread(\"./opencv_data/lena/lena.jpg\", -1) ## reding image as grayscale\n",
    "# print(img)"
   ]
  },
  {
   "cell_type": "code",
   "execution_count": 5,
   "id": "dae3df07-39aa-4956-8395-edee68d746fb",
   "metadata": {},
   "outputs": [],
   "source": [
    "## we got the matrix with the pixel values of image\n",
    "## lets show the image by using imshow - here we will provide two arguments, one is window name where the opencv will display the image\n",
    "## and other is the name of the image, or varaible representing the image\n",
    "## here the image will be shown for a milliseconds, so we need to add some wait time, that we can done by using cv.waitKey() method\n",
    "\n",
    "cv.imshow(\"IMAGE\", img)\n",
    "cv.waitKey(0)\n",
    "## here I have not provided any arguments to waitKey, as that means that it will be displayed for an infinite duration,\n",
    "## we can also use \"0\" as an argument to display for an infinite duration\n",
    "## if we provide a specific duration, then we can also use cv.destroyAllWindows to destro the window once it is shown\n",
    "\n",
    "cv.destroyAllWindows()"
   ]
  },
  {
   "cell_type": "code",
   "execution_count": 6,
   "id": "e5dc96a1-b68e-4e76-9272-e08a5729b017",
   "metadata": {},
   "outputs": [
    {
     "data": {
      "text/plain": [
       "True"
      ]
     },
     "execution_count": 6,
     "metadata": {},
     "output_type": "execute_result"
    }
   ],
   "source": [
    "## lets see the writing of an image\n",
    "# we will be using cv.imwrite() method which usually accepts two arguments\n",
    "## first argument is the name of the image buy which we want to write, second is the image which we want to write, that can be \n",
    "## variable storing the image or exact path to that image\n",
    "cv.imwrite(\"Lena_Copy.png\", img)"
   ]
  },
  {
   "cell_type": "code",
   "execution_count": 9,
   "id": "00f5c24b-5a04-478a-8ff9-4be208365e25",
   "metadata": {},
   "outputs": [],
   "source": [
    "## lets customize it a little bit better by using if conditions\n",
    "## lets store the cv.waitKey() in a varaible \n",
    "cv.imshow(\"IMAGE\", img)\n",
    "key = cv.waitKey(0)\n",
    "if key == 27: ## the 27 is the ASCII value of \"ESC\" key\n",
    "    cv.destroyAllWindows()\n",
    "elif key == ord('s'):\n",
    "    cv.imwrite(\"Lena_Copy_2.png\", img)\n",
    "    cv.destroyAllWindows()"
   ]
  },
  {
   "cell_type": "code",
   "execution_count": null,
   "id": "a8323069-df4d-4c3f-9cf5-9ef55e324eed",
   "metadata": {},
   "outputs": [],
   "source": []
  }
 ],
 "metadata": {
  "kernelspec": {
   "display_name": "Python 3 (ipykernel)",
   "language": "python",
   "name": "python3"
  },
  "language_info": {
   "codemirror_mode": {
    "name": "ipython",
    "version": 3
   },
   "file_extension": ".py",
   "mimetype": "text/x-python",
   "name": "python",
   "nbconvert_exporter": "python",
   "pygments_lexer": "ipython3",
   "version": "3.9.7"
  }
 },
 "nbformat": 4,
 "nbformat_minor": 5
}
