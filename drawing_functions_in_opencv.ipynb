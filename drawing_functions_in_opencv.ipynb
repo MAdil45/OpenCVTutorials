{
 "cells": [
  {
   "cell_type": "code",
   "execution_count": 1,
   "id": "cde34d13-6f5a-4060-87e7-2efbbe464b28",
   "metadata": {},
   "outputs": [],
   "source": [
    "import cv2 as cv\n",
    "import numpy as np"
   ]
  },
  {
   "cell_type": "code",
   "execution_count": 4,
   "id": "5a22cc82-b090-4aeb-9255-d5d70814fd4f",
   "metadata": {},
   "outputs": [],
   "source": [
    "## in this video we will be seeing how to draw different shapes on images\n",
    "## first lets read an image\n",
    "img = cv.imread(\"./opencv_data/lena/lena.jpg\", -1)\n",
    "cv.imshow('Lena', img)\n",
    "cv.waitKey(0)\n",
    "cv.destroyAllWindows()"
   ]
  },
  {
   "cell_type": "code",
   "execution_count": 37,
   "id": "4b759e7d-f126-41ec-9880-61455391cc89",
   "metadata": {},
   "outputs": [],
   "source": [
    "## lets start drawing the line on the image\n",
    "img = cv.imread(\"./opencv_data/lena/lena.jpg\", 1)\n",
    "\n",
    "# we will use cv.line()\n",
    "## it needs few arguments: img -> to which we will draw the line\n",
    "## pt1: starting coordinates\n",
    "## pt2: ending coordinates\n",
    "## color: color of the line in BGR format\n",
    "## thickness: the thickness of the line - 1-10, \n",
    "# img = cv.line(img, pt1=(0,0), pt2=(255,255), color=(0, 0, 255), thickness=10)\n",
    "img = cv.arrowedLine(img, pt1=(0,0), pt2=(140,80), color=(180, 59, 179), thickness=10)\n",
    "\n",
    "img = cv.rectangle(img, pt1=(255,255), pt2=(0,500),color=(255, 0, 0), thickness=10)\n",
    "## we can also fill the rectangle with the mentioned color by providing '-1' as an argument to thickness:\n",
    "img = cv.rectangle(img, pt1=(255,255), pt2=(0,500),color=(255, 255, 0), thickness=5)\n",
    "\n",
    "## lets draw the circle now:\n",
    "img = cv.circle(img, (255, 225), 200, color=(0,255,0), thickness=4)\n",
    "\n",
    "## lets put the text on the image by using cv.putText(img, text, starting_position_of_font, font_style, color)\n",
    "font=cv.FONT_HERSHEY_COMPLEX\n",
    "img = cv.putText(img, \"This is Lena\", (80, 40),  font, 0.9, (0,255,255), 2, cv.LINE_AA)\n",
    "\n",
    "## lets create a image using numpy.zeros()\n",
    "# img = np.zeros((450, 450, 3))\n",
    "cv.imshow('Lena', img)\n",
    "cv.waitKey(0)\n",
    "cv.destroyAllWindows()"
   ]
  },
  {
   "cell_type": "code",
   "execution_count": null,
   "id": "f4be0d1f-386a-47e1-b997-0cd23d9d6d40",
   "metadata": {},
   "outputs": [],
   "source": []
  },
  {
   "cell_type": "code",
   "execution_count": null,
   "id": "70f8184e-27c5-4f8a-a174-988fd035859e",
   "metadata": {},
   "outputs": [],
   "source": []
  }
 ],
 "metadata": {
  "kernelspec": {
   "display_name": "Python 3 (ipykernel)",
   "language": "python",
   "name": "python3"
  },
  "language_info": {
   "codemirror_mode": {
    "name": "ipython",
    "version": 3
   },
   "file_extension": ".py",
   "mimetype": "text/x-python",
   "name": "python",
   "nbconvert_exporter": "python",
   "pygments_lexer": "ipython3",
   "version": "3.9.12"
  }
 },
 "nbformat": 4,
 "nbformat_minor": 5
}
