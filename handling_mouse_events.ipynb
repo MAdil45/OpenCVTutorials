{
 "cells": [
  {
   "cell_type": "code",
   "execution_count": 1,
   "id": "004931dc-29cf-4bd2-ba22-e2b72625008b",
   "metadata": {},
   "outputs": [],
   "source": [
    "import cv2 as cv\n",
    "import numpy as np"
   ]
  },
  {
   "cell_type": "code",
   "execution_count": 2,
   "id": "2eadba8a-4822-4874-bd97-25e8c8dce3c2",
   "metadata": {},
   "outputs": [
    {
     "data": {
      "text/plain": [
       "['EVENT_FLAG_ALTKEY',\n",
       " 'EVENT_FLAG_CTRLKEY',\n",
       " 'EVENT_FLAG_LBUTTON',\n",
       " 'EVENT_FLAG_MBUTTON',\n",
       " 'EVENT_FLAG_RBUTTON',\n",
       " 'EVENT_FLAG_SHIFTKEY',\n",
       " 'EVENT_LBUTTONDBLCLK',\n",
       " 'EVENT_LBUTTONDOWN',\n",
       " 'EVENT_LBUTTONUP',\n",
       " 'EVENT_MBUTTONDBLCLK',\n",
       " 'EVENT_MBUTTONDOWN',\n",
       " 'EVENT_MBUTTONUP',\n",
       " 'EVENT_MOUSEHWHEEL',\n",
       " 'EVENT_MOUSEMOVE',\n",
       " 'EVENT_MOUSEWHEEL',\n",
       " 'EVENT_RBUTTONDBLCLK',\n",
       " 'EVENT_RBUTTONDOWN',\n",
       " 'EVENT_RBUTTONUP']"
      ]
     },
     "execution_count": 2,
     "metadata": {},
     "output_type": "execute_result"
    }
   ],
   "source": [
    "## Here we will see how to handle mouse events\n",
    "##lets see all the available mouse events in cv2\n",
    "events = [i for i in dir(cv) if 'EVENT' in i]\n",
    "events"
   ]
  },
  {
   "cell_type": "code",
   "execution_count": null,
   "id": "851ac8d9-44b0-4b10-8b79-633b59f59291",
   "metadata": {},
   "outputs": [],
   "source": []
  },
  {
   "cell_type": "code",
   "execution_count": 7,
   "id": "b22a593f-b8bd-427e-9b50-41e98d3a4f94",
   "metadata": {},
   "outputs": [
    {
     "name": "stdout",
     "output_type": "stream",
     "text": [
      "483  ,  449\n",
      "153  ,  274\n",
      "234  ,  72\n",
      "420  ,  155\n",
      "83 87 200\n",
      "85 77 184\n",
      "82 67 175\n",
      "26  ,  166\n",
      "69  ,  283\n",
      "70 47 155\n",
      "151 101 141\n",
      "7 5 244\n"
     ]
    }
   ],
   "source": [
    "## lets write a program to read the mouse events\n",
    "## lets write a simple function to read it\n",
    "def onMouse(event, x, y, flags, param): ## providing event which is happening and it will provide us the position of x,y coordinates where event is happend\n",
    "    ## let first read the left mouse button down, Whenever we will press the left mouse button\n",
    "    if event == cv.EVENT_LBUTTONDOWN:\n",
    "        print(x, \" , \", y)\n",
    "        xy = str(x) + ', ' + str(y)\n",
    "        font = cv.FONT_HERSHEY_COMPLEX\n",
    "        cv.putText(img, xy, (x,y), font, 1, (0,255,200), 1, cv.LINE_AA)\n",
    "        cv.imshow('IMAGE', img)\n",
    "    ## next let read the right mouse button, whenever we will press the right mouse button\n",
    "    if event == cv.EVENT_RBUTTONDOWN:\n",
    "        ## lets show the bgr channel values\n",
    "        b,g,r = img[y,x,0],img[y,x,1],img[y,x,2] \n",
    "        print(b,g,r)\n",
    "        xy = str(b) + ', ' + str(g) + ', ' + str(r)\n",
    "        font = cv.FONT_HERSHEY_COMPLEX\n",
    "        cv.putText(img, xy, (x,y), font, 1, (0,0,255), 1, cv.LINE_AA)\n",
    "        cv.imshow('IMAGE', img)\n",
    "\n",
    "## lets create a black image to show the mouse event\n",
    "# img = np.zeros((640, 640, 3))\n",
    "img = cv.imread('./Lena_Copy_2.png')\n",
    "cv.imshow(\"IMAGE\", img)\n",
    "cv.setMouseCallback(\"IMAGE\", onMouse) ## make sure to use the same windows name\n",
    "cv.waitKey(0)\n",
    "cv.destroyAllWindows()"
   ]
  },
  {
   "cell_type": "code",
   "execution_count": 10,
   "id": "b1d0f70d-db7c-4b49-9c69-946f596b2f7b",
   "metadata": {},
   "outputs": [
    {
     "ename": "error",
     "evalue": "OpenCV(4.6.0) :-1: error: (-5:Bad argument) in function 'rectangle'\n> Overload resolution failed:\n>  - 'thicness' is an invalid keyword argument for rectangle()\n>  - 'thicness' is an invalid keyword argument for rectangle()\n>  - rectangle() missing required argument 'rec' (pos 2)\n>  - rectangle() missing required argument 'rec' (pos 2)\n",
     "output_type": "error",
     "traceback": [
      "\u001b[1;31m---------------------------------------------------------------------------\u001b[0m",
      "\u001b[1;31merror\u001b[0m                                     Traceback (most recent call last)",
      "Cell \u001b[1;32mIn [22], line 5\u001b[0m, in \u001b[0;36monMouse\u001b[1;34m(event, x, y, flags, param)\u001b[0m\n\u001b[0;32m      3\u001b[0m \u001b[38;5;28;01mdef\u001b[39;00m \u001b[38;5;21monMouse\u001b[39m(event, x, y, flags, param): \n\u001b[0;32m      4\u001b[0m     \u001b[38;5;28;01mif\u001b[39;00m event \u001b[38;5;241m==\u001b[39m cv\u001b[38;5;241m.\u001b[39mEVENT_LBUTTONDOWN:\n\u001b[1;32m----> 5\u001b[0m         \u001b[43mcv\u001b[49m\u001b[38;5;241;43m.\u001b[39;49m\u001b[43mrectangle\u001b[49m\u001b[43m(\u001b[49m\u001b[43mimg\u001b[49m\u001b[43m,\u001b[49m\u001b[43m \u001b[49m\u001b[43mpt1\u001b[49m\u001b[38;5;241;43m=\u001b[39;49m\u001b[43m(\u001b[49m\u001b[43mx\u001b[49m\u001b[43m,\u001b[49m\u001b[43my\u001b[49m\u001b[43m)\u001b[49m\u001b[43m,\u001b[49m\u001b[43m \u001b[49m\u001b[43mpt2\u001b[49m\u001b[38;5;241;43m=\u001b[39;49m\u001b[43m(\u001b[49m\u001b[43mx\u001b[49m\u001b[38;5;241;43m-\u001b[39;49m\u001b[38;5;241;43m4\u001b[39;49m\u001b[43m,\u001b[49m\u001b[43m \u001b[49m\u001b[43my\u001b[49m\u001b[38;5;241;43m-\u001b[39;49m\u001b[38;5;241;43m4\u001b[39;49m\u001b[43m)\u001b[49m\u001b[43m,\u001b[49m\u001b[43m \u001b[49m\u001b[43mcolor\u001b[49m\u001b[38;5;241;43m=\u001b[39;49m\u001b[43m(\u001b[49m\u001b[38;5;241;43m0\u001b[39;49m\u001b[43m,\u001b[49m\u001b[38;5;241;43m255\u001b[39;49m\u001b[43m,\u001b[49m\u001b[38;5;241;43m0\u001b[39;49m\u001b[43m)\u001b[49m\u001b[43m,\u001b[49m\u001b[43m \u001b[49m\u001b[43mthicness\u001b[49m\u001b[38;5;241;43m=\u001b[39;49m\u001b[38;5;241;43m-\u001b[39;49m\u001b[38;5;241;43m1\u001b[39;49m\u001b[43m)\u001b[49m\n\u001b[0;32m      6\u001b[0m         \u001b[38;5;66;03m# points.append((x,y))\u001b[39;00m\n\u001b[0;32m      7\u001b[0m         points\u001b[38;5;241m.\u001b[39mappend((x,y),(x\u001b[38;5;241m-\u001b[39m\u001b[38;5;241m4\u001b[39m,y\u001b[38;5;241m-\u001b[39m\u001b[38;5;241m4\u001b[39m))\n",
      "\u001b[1;31merror\u001b[0m: OpenCV(4.6.0) :-1: error: (-5:Bad argument) in function 'rectangle'\n> Overload resolution failed:\n>  - 'thicness' is an invalid keyword argument for rectangle()\n>  - 'thicness' is an invalid keyword argument for rectangle()\n>  - rectangle() missing required argument 'rec' (pos 2)\n>  - rectangle() missing required argument 'rec' (pos 2)\n"
     ]
    },
    {
     "ename": "error",
     "evalue": "OpenCV(4.6.0) :-1: error: (-5:Bad argument) in function 'rectangle'\n> Overload resolution failed:\n>  - 'thicness' is an invalid keyword argument for rectangle()\n>  - 'thicness' is an invalid keyword argument for rectangle()\n>  - rectangle() missing required argument 'rec' (pos 2)\n>  - rectangle() missing required argument 'rec' (pos 2)\n",
     "output_type": "error",
     "traceback": [
      "\u001b[1;31m---------------------------------------------------------------------------\u001b[0m",
      "\u001b[1;31merror\u001b[0m                                     Traceback (most recent call last)",
      "Cell \u001b[1;32mIn [22], line 5\u001b[0m, in \u001b[0;36monMouse\u001b[1;34m(event, x, y, flags, param)\u001b[0m\n\u001b[0;32m      3\u001b[0m \u001b[38;5;28;01mdef\u001b[39;00m \u001b[38;5;21monMouse\u001b[39m(event, x, y, flags, param): \n\u001b[0;32m      4\u001b[0m     \u001b[38;5;28;01mif\u001b[39;00m event \u001b[38;5;241m==\u001b[39m cv\u001b[38;5;241m.\u001b[39mEVENT_LBUTTONDOWN:\n\u001b[1;32m----> 5\u001b[0m         \u001b[43mcv\u001b[49m\u001b[38;5;241;43m.\u001b[39;49m\u001b[43mrectangle\u001b[49m\u001b[43m(\u001b[49m\u001b[43mimg\u001b[49m\u001b[43m,\u001b[49m\u001b[43m \u001b[49m\u001b[43mpt1\u001b[49m\u001b[38;5;241;43m=\u001b[39;49m\u001b[43m(\u001b[49m\u001b[43mx\u001b[49m\u001b[43m,\u001b[49m\u001b[43my\u001b[49m\u001b[43m)\u001b[49m\u001b[43m,\u001b[49m\u001b[43m \u001b[49m\u001b[43mpt2\u001b[49m\u001b[38;5;241;43m=\u001b[39;49m\u001b[43m(\u001b[49m\u001b[43mx\u001b[49m\u001b[38;5;241;43m-\u001b[39;49m\u001b[38;5;241;43m4\u001b[39;49m\u001b[43m,\u001b[49m\u001b[43m \u001b[49m\u001b[43my\u001b[49m\u001b[38;5;241;43m-\u001b[39;49m\u001b[38;5;241;43m4\u001b[39;49m\u001b[43m)\u001b[49m\u001b[43m,\u001b[49m\u001b[43m \u001b[49m\u001b[43mcolor\u001b[49m\u001b[38;5;241;43m=\u001b[39;49m\u001b[43m(\u001b[49m\u001b[38;5;241;43m0\u001b[39;49m\u001b[43m,\u001b[49m\u001b[38;5;241;43m255\u001b[39;49m\u001b[43m,\u001b[49m\u001b[38;5;241;43m0\u001b[39;49m\u001b[43m)\u001b[49m\u001b[43m,\u001b[49m\u001b[43m \u001b[49m\u001b[43mthicness\u001b[49m\u001b[38;5;241;43m=\u001b[39;49m\u001b[38;5;241;43m-\u001b[39;49m\u001b[38;5;241;43m1\u001b[39;49m\u001b[43m)\u001b[49m\n\u001b[0;32m      6\u001b[0m         \u001b[38;5;66;03m# points.append((x,y))\u001b[39;00m\n\u001b[0;32m      7\u001b[0m         points\u001b[38;5;241m.\u001b[39mappend((x,y),(x\u001b[38;5;241m-\u001b[39m\u001b[38;5;241m4\u001b[39m,y\u001b[38;5;241m-\u001b[39m\u001b[38;5;241m4\u001b[39m))\n",
      "\u001b[1;31merror\u001b[0m: OpenCV(4.6.0) :-1: error: (-5:Bad argument) in function 'rectangle'\n> Overload resolution failed:\n>  - 'thicness' is an invalid keyword argument for rectangle()\n>  - 'thicness' is an invalid keyword argument for rectangle()\n>  - rectangle() missing required argument 'rec' (pos 2)\n>  - rectangle() missing required argument 'rec' (pos 2)\n"
     ]
    }
   ],
   "source": [
    "## lets handle more mouse events\n",
    "## lets draw a line between two clicked points\n",
    "def onMouse(event, x, y, flags, param): \n",
    "    if event == cv.EVENT_LBUTTONDOWN:\n",
    "        cv.circle(img, (x,y), 5, (0,255,0), -1, )\n",
    "        points.append((x,y))\n",
    "        if len(points)>=2:\n",
    "            cv.line(img, points[-1], points[-2], (0,255,0), 3,)\n",
    "        cv.imshow('IMAGE', img)\n",
    "   \n",
    "\n",
    "\n",
    "img = cv.imread('./Lena_Copy_2.png')\n",
    "cv.imshow(\"IMAGE\", img)\n",
    "points = []\n",
    "cv.setMouseCallback(\"IMAGE\", onMouse) ## make sure to use the same windows name\n",
    "cv.waitKey(0)\n",
    "cv.destroyAllWindows()"
   ]
  },
  {
   "cell_type": "code",
   "execution_count": null,
   "id": "077ef985-4eb5-4b8d-a1ac-ce6dc1a5a1a5",
   "metadata": {},
   "outputs": [],
   "source": [
    "## lets handle more mouse events\n",
    "## lets draw an color image and fill it with the b,g,r colors by clicking on the color image\n",
    "def onMouse(event, x, y, flags, param): \n",
    "    if event == cv.EVENT_LBUTTONDOWN:\n",
    "        b,g,r= img[x,y,0],img[x,y,1],img[x,y,2], \n",
    "      \n",
    "        cv.circle(img, (x,y), 4, (0,0,255), -1)\n",
    "        colorImg = np.zeros((512,512,3), np.uint8)\n",
    "        colorImg[:] = [b,g,r]\n",
    "        cv.imshow('color', colorImg)\n",
    "\n",
    "img = cv.imread('./Lena_Copy_2.png')\n",
    "cv.imshow(\"IMAGE\", img)\n",
    "cv.setMouseCallback(\"IMAGE\", onMouse) ## make sure to use the same windows name\n",
    "cv.waitKey(0)\n",
    "cv.destroyAllWindows()"
   ]
  },
  {
   "cell_type": "code",
   "execution_count": null,
   "id": "aaf973b5-56d6-4cce-b40e-4b7665775d0a",
   "metadata": {},
   "outputs": [],
   "source": []
  }
 ],
 "metadata": {
  "kernelspec": {
   "display_name": "Python 3 (ipykernel)",
   "language": "python",
   "name": "python3"
  },
  "language_info": {
   "codemirror_mode": {
    "name": "ipython",
    "version": 3
   },
   "file_extension": ".py",
   "mimetype": "text/x-python",
   "name": "python",
   "nbconvert_exporter": "python",
   "pygments_lexer": "ipython3",
   "version": "3.9.12"
  }
 },
 "nbformat": 4,
 "nbformat_minor": 5
}
