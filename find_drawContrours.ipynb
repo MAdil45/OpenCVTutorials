{
 "cells": [
  {
   "cell_type": "code",
   "execution_count": 3,
   "id": "53b0fb99-9721-4fe6-af8f-f3ea420ce663",
   "metadata": {},
   "outputs": [],
   "source": [
    "import cv2 as cv\n",
    "import numpy as np"
   ]
  },
  {
   "cell_type": "code",
   "execution_count": 19,
   "id": "79115996-5317-4b74-ab97-366c87917abe",
   "metadata": {},
   "outputs": [],
   "source": [
    "## here we will be seeing how to find and draw contours using OpenCV -         \n",
    "## contours are defined as a curve joining all the continous points along a \n",
    "## boundry which has the same color and intensity\n",
    "## they are usefull for object detection, object analysis etc.\n",
    "## for better accuracy we generally used binary image to find the contours\n",
    "## first thing first - lets read the image\n",
    "\n",
    "\n",
    "img = cv.imread(\"./opencv-logo-white.png\")\n",
    "\n",
    "img2 = cv.imread(\"./opencv-logo-white.png\")\n",
    "\n",
    "## the contours are usually found and draw on binary images - lets convert them first into gray scale\n",
    "imgray = cv.cvtColor(img, cv.COLOR_BGR2GRAY)\n",
    "\n",
    "\n",
    "\n",
    "## transforming the image into binary\n",
    "_, thre = cv.threshold(imgray, 120, 255, cv.THRESH_BINARY)\n",
    "\n",
    "## now we have binary image, lets get the contours - here we will be passing two variables\n",
    "contours, hierarchy = cv.findContours(thre, cv.RETR_LIST, cv.CHAIN_APPROX_NONE) ## here the third argument is Contours Approximation Method - Which approximation is to use\n",
    "                                                                                 ## depend on the number of contours we want to save. If we pass cv2.CHAIN_APPROX_NONE, \n",
    "                                                                                  ## all the boundary points are stored. However, if we have to find the contour of a straight line, \n",
    "                                                                                   ## We need just two endpoints of that line. This is what cv2.CHAIN_APPROX_SIMPLE does. \n",
    "                                                                                    ## It removes all redundant points and compresses the contour, thereby saving memory\n",
    "\n",
    "## now we have our contours, lets draw them using cv.drawContours()\n",
    "cv.drawContours(img, contours, -1, (0,255,0),2)  ## here third argument is the index, we can draw the \n",
    "                                                    ## specific contours\n",
    "\n",
    "\n",
    "## lets display them\n",
    "cv.imshow(\"Original Image\", img2)\n",
    "cv.imshow(\"IMAGE\", img)\n",
    "cv.imshow(\"IMGRAY\", imgray)\n",
    "cv.imshow(\"Binary IMAGE\", thre)\n",
    "\n",
    "\n",
    "cv.waitKey(0)\n",
    "cv.destroyAllWindows()"
   ]
  },
  {
   "cell_type": "code",
   "execution_count": 18,
   "id": "faad6470-e8db-42dc-a551-8af8e0f52125",
   "metadata": {},
   "outputs": [
    {
     "data": {
      "text/plain": [
       "14"
      ]
     },
     "execution_count": 18,
     "metadata": {},
     "output_type": "execute_result"
    }
   ],
   "source": [
    "len(contours)"
   ]
  },
  {
   "cell_type": "code",
   "execution_count": null,
   "id": "7b97d2c3-fc19-4de5-b975-624468fed86a",
   "metadata": {},
   "outputs": [],
   "source": []
  }
 ],
 "metadata": {
  "kernelspec": {
   "display_name": "Python 3 (ipykernel)",
   "language": "python",
   "name": "python3"
  },
  "language_info": {
   "codemirror_mode": {
    "name": "ipython",
    "version": 3
   },
   "file_extension": ".py",
   "mimetype": "text/x-python",
   "name": "python",
   "nbconvert_exporter": "python",
   "pygments_lexer": "ipython3",
   "version": "3.9.12"
  }
 },
 "nbformat": 4,
 "nbformat_minor": 5
}
