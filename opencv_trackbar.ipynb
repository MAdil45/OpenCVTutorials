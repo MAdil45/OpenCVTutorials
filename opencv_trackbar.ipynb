{
 "cells": [
  {
   "cell_type": "code",
   "execution_count": 1,
   "id": "0df4257b-7ff1-4e92-8c32-2fe815f2a7e0",
   "metadata": {},
   "outputs": [],
   "source": [
    "import cv2 as cv\n",
    "import numpy as np\n"
   ]
  },
  {
   "cell_type": "code",
   "execution_count": null,
   "id": "7840548b-64f8-4362-8de7-0adc7fe34f6c",
   "metadata": {},
   "outputs": [],
   "source": []
  },
  {
   "cell_type": "code",
   "execution_count": 6,
   "id": "b83e5bc8-ba1f-45a2-ad8f-05ef154b6c93",
   "metadata": {},
   "outputs": [],
   "source": [
    "## here we are going to work with the trackbars\n",
    "# first lets create a image\n",
    "img = np.zeros((300, 512, 3), np.int8)\n",
    "cv.namedWindow(\"IMAGE\")\n",
    "\n",
    "# lets display the image\n",
    "while(1):   ### in python3, now we can use 1 as True, if we print True == 1 -> True\n",
    "    cv.imshow('IMAGE', img)\n",
    "    k = cv.waitKey(1) & 0xFF\n",
    "    if k == 27:\n",
    "        break\n",
    "cv.destroyAllWindows()"
   ]
  },
  {
   "cell_type": "code",
   "execution_count": 8,
   "id": "971658ce-80b3-47a3-b9e2-7b528d3a6053",
   "metadata": {},
   "outputs": [
    {
     "name": "stdout",
     "output_type": "stream",
     "text": [
      "51\n",
      "51\n",
      "51\n",
      "102\n",
      "102\n",
      "102\n"
     ]
    }
   ],
   "source": [
    "# now to create a trackbar, cv provides a function named createTrackbar(). Let use it\n",
    "img = np.zeros((300, 512, 3), np.int8)\n",
    "cv.namedWindow(\"IMAGE\")\n",
    "## lets create a trackbar to change tge color pixel values\n",
    "# \"\"\" \n",
    "# cv.createTrackbar():\n",
    "# trackbarName: name of the trackbar\n",
    "# windowname: name of the window\n",
    "# value: starting value\n",
    "# count: final value\n",
    "# onChnage: callback function\n",
    "# \"\"\"\n",
    "def finalPixelValue(x):\n",
    "    print(x)\n",
    "cv.createTrackbar('B', 'IMAGE', 0, 255, finalPixelValue)\n",
    "cv.createTrackbar('G', 'IMAGE', 0, 255, finalPixelValue)\n",
    "cv.createTrackbar('R', 'IMAGE', 0, 255, finalPixelValue)\n",
    "\n",
    "## we can also add a switch option at the trackbar to assign the change color values to img or not.\n",
    "# switch = \"O: OFF \\n 1: ON\"\n",
    "# switch = cv.createTrackbar(switch, 'IMAGE', 0, 1, finalPixelValue)\n",
    "## now if we open the image, we can change the values of color channels. But Cannot assign them\n",
    "## Lets assign the value in the loop via using switch\n",
    "while(1):\n",
    "    cv.imshow('IMAGE', img)\n",
    "    k = cv.waitKey(1) & 0xFF\n",
    "    if k == 27:\n",
    "        break\n",
    "    b = cv.getTrackbarPos(\"B\", \"IMAGE\")\n",
    "    g = cv.getTrackbarPos(\"G\", \"IMAGE\")\n",
    "    r = cv.getTrackbarPos(\"R\", \"IMAGE\")\n",
    "    # s = cv.getTrackbarPos(switch, \"IMAGE\")\n",
    "    img[:] = [b,g,r]\n",
    "    \n",
    "#     if s == 0:\n",
    "#         img[:] = 0\n",
    "#     elif s == 1:\n",
    "#         img[:] = [b,g,r]\n",
    "\n",
    "cv.destroyAllWindows()"
   ]
  },
  {
   "cell_type": "code",
   "execution_count": null,
   "id": "9604afbd-ead7-4aa8-9238-ad39f82da0b3",
   "metadata": {},
   "outputs": [],
   "source": []
  }
 ],
 "metadata": {
  "kernelspec": {
   "display_name": "Python 3 (ipykernel)",
   "language": "python",
   "name": "python3"
  },
  "language_info": {
   "codemirror_mode": {
    "name": "ipython",
    "version": 3
   },
   "file_extension": ".py",
   "mimetype": "text/x-python",
   "name": "python",
   "nbconvert_exporter": "python",
   "pygments_lexer": "ipython3",
   "version": "3.9.12"
  }
 },
 "nbformat": 4,
 "nbformat_minor": 5
}
