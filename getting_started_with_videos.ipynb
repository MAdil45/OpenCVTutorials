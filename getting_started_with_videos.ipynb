{
 "cells": [
  {
   "cell_type": "code",
   "execution_count": 1,
   "id": "81d0aeb5-66d7-4bca-af0d-d009d8a15f44",
   "metadata": {},
   "outputs": [],
   "source": [
    "import cv2 as cv"
   ]
  },
  {
   "cell_type": "code",
   "execution_count": 8,
   "id": "6ac2c61e-e99c-46ab-92bb-6d204c754c71",
   "metadata": {},
   "outputs": [],
   "source": [
    "# we can capture the video by using cv.VideoCapture() which needs either the exact filename of the video or \n",
    "## we can provide (0) as argument to show the video from webcam. Lets capture the video\n",
    "cap = cv.VideoCapture(0) ## reading from webcam\n",
    "\n",
    "## here we need a loop to capture the frame continously. Therefore we will be using while loop.As we need to run idefinately, we will be using\n",
    "## simple while True:\n",
    "## to read, we will be using simple python read function\n",
    "## we need to save True or False, if the frame avalaible or not, we will be saving that in _.\n",
    "while (True):\n",
    "    _ , frame = cap.read() ## _ to save either True, if frame is available or False, if frame not available.\n",
    "    \n",
    "    # lets show the frame\n",
    "    cv.imshow('Frame', frame) ## To understand, please follow getting_started_with_images\n",
    "    \n",
    "    # use cv.waitKey()\n",
    "    if cv.waitKey(1) & 0xFF == ord('q'):\n",
    "        # upon pressing 'q' we will break it\n",
    "        break\n",
    "## after breaking, it is important to release the resources and destro windows\n",
    "cap.release()\n",
    "cv.destroyAllWindows()"
   ]
  },
  {
   "cell_type": "code",
   "execution_count": 12,
   "id": "fb9fae94-61c4-4e4f-865b-b879b3bc33e2",
   "metadata": {},
   "outputs": [],
   "source": [
    "cap = cv.VideoCapture(0) ## reading from webcam\n",
    "\n",
    "while (True):\n",
    "    _ , frame = cap.read()\n",
    "    gray = cv.cvtColor(frame, cv.COLOR_BGR2GRAY)\n",
    "    cv.imshow('Frame', gray) \n",
    "    \n",
    "    if cv.waitKey(1) & 0xFF == ord('q'):\n",
    "        break\n",
    "cap.release()\n",
    "cv.destroyAllWindows()"
   ]
  },
  {
   "cell_type": "code",
   "execution_count": 5,
   "id": "240bf6a8-29cf-4545-9661-7cdf6e8bc505",
   "metadata": {},
   "outputs": [
    {
     "name": "stdout",
     "output_type": "stream",
     "text": [
      "True\n"
     ]
    }
   ],
   "source": [
    "## we can also customize while loop and use .isOpened() function \n",
    "## this will also make sure and only run if there is a video file available\n",
    "## we can also use print() to see if it is True or False\n",
    "cap = cv.VideoCapture(0) ## reading from webcam\n",
    "print(cap.isOpened())\n",
    "\n",
    "## There are also other properties which we can get by using .get() function\n",
    "## We can get different properties. like frame height and width etc\n",
    "## you can use the following link to get the all properties\n",
    "\n",
    "while (cap.isOpened()):\n",
    "    _ , frame = cap.read()\n",
    "    # print(cap.get(cv.CAP_PROP_FRAME_WIDTH))\n",
    "    # print(cap.get(cv.CAP_PROP_FRAME_HEIGHT))\n",
    "    # gray = cv.cvtColor(frame, cv.COLOR_BGR2GRAY)\n",
    "    cv.imshow('Frame', frame) \n",
    "    \n",
    "    if cv.waitKey(1) & 0xFF == ord('q'):\n",
    "        break\n",
    "cap.release()\n",
    "cv.destroyAllWindows()"
   ]
  },
  {
   "cell_type": "code",
   "execution_count": 5,
   "id": "7d41b315-341d-4dbc-8e7c-0fde5457dd5a",
   "metadata": {},
   "outputs": [
    {
     "name": "stdout",
     "output_type": "stream",
     "text": [
      "True\n"
     ]
    }
   ],
   "source": [
    "## lets save these frames by using the cv.VideoWriter()  \n",
    "## we will be needing the fourcc code, which are the codecs informations and\n",
    "## frame per seconds and size of the frame\n",
    "## lets reuse the code\n",
    "cap = cv.VideoCapture(0) ## reading from webcam\n",
    "fourcc = cv.VideoWriter_fourcc('X', 'V', \"I\", 'D ') ## or (*\"XVID\")\n",
    "print(cap.isOpened())\n",
    "\n",
    "# lets create the variable to save the output\n",
    "out = cv.VideoWriter(\"MyVideo_2.avi\", fourcc, 30.0, (640, 480))\n",
    "\n",
    "## now we will be using this varaible inside the loop, for that we will modify\n",
    "## _ to boolean, as it is a boolean condition\n",
    "while (cap.isOpened()):\n",
    "    boolean , frame = cap.read()\n",
    "    if boolean == True:\n",
    "        # print(cap.get(cv.CAP_PROP_FRAME_WIDTH))\n",
    "        # print(cap.get(cv.CAP_PROP_FRAME_HEIGHT))\n",
    "        # out.write(frame)\n",
    "        gray = cv.cvtColor(frame, cv.COLOR_BGR2GRAY)\n",
    "        # lets save it in gray format, it will save the video, but wont run\n",
    "        ## as we need specific codes for grayscale images\n",
    "        out.write(gray)\n",
    "        cv.imshow('Frame', gray) \n",
    "\n",
    "        if cv.waitKey(1) & 0xFF == ord('q'):\n",
    "            break\n",
    "    else:\n",
    "        break\n",
    "cap.release()\n",
    "out.release()\n",
    "cv.destroyAllWindows()"
   ]
  },
  {
   "cell_type": "code",
   "execution_count": 3,
   "id": "5c847640-5d4d-42fa-aec0-c3d0be5d069f",
   "metadata": {},
   "outputs": [
    {
     "data": {
      "text/plain": [
       "'C:\\\\Users\\\\muhammad.adil\\\\Desktop\\\\Skills_Enhancement\\\\YouTubeCourses'"
      ]
     },
     "execution_count": 3,
     "metadata": {},
     "output_type": "execute_result"
    }
   ],
   "source": [
    "pwd"
   ]
  },
  {
   "cell_type": "code",
   "execution_count": null,
   "id": "063f65ed-ebdc-4fdd-8a55-0ad5fd5b2fd3",
   "metadata": {},
   "outputs": [],
   "source": []
  }
 ],
 "metadata": {
  "kernelspec": {
   "display_name": "Python 3 (ipykernel)",
   "language": "python",
   "name": "python3"
  },
  "language_info": {
   "codemirror_mode": {
    "name": "ipython",
    "version": 3
   },
   "file_extension": ".py",
   "mimetype": "text/x-python",
   "name": "python",
   "nbconvert_exporter": "python",
   "pygments_lexer": "ipython3",
   "version": "3.9.12"
  }
 },
 "nbformat": 4,
 "nbformat_minor": 5
}
