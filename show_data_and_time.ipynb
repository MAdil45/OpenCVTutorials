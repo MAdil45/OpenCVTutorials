{
 "cells": [
  {
   "cell_type": "code",
   "execution_count": 8,
   "id": "ab7ca5be-a953-4fcd-9922-ef8f9bc406c9",
   "metadata": {},
   "outputs": [],
   "source": [
    "import cv2 as cv\n",
    "import numpy as np\n",
    "import datetime"
   ]
  },
  {
   "cell_type": "code",
   "execution_count": 11,
   "id": "632435cc-18c5-4759-985d-3b55053f4c6b",
   "metadata": {},
   "outputs": [],
   "source": [
    "# lets first capture the webcam\n",
    "cap = cv.VideoCapture(0)\n",
    "# cap.set(3, 1280)\n",
    "# cap.set(4, 720)\n",
    "# print(cap.get(3))\n",
    "# print(cap.get(4))\n",
    "\n",
    "## now as we know how to put the text on the image from the tutorial of drawing functions. We just use that knowledge here\n",
    "\n",
    "while (cap.isOpened):\n",
    "    boolean, frame = cap.read()\n",
    "    if boolean == True:\n",
    "        font = cv.FONT_HERSHEY_COMPLEX\n",
    "        ## lets create dateTime variable to show the current date and time\n",
    "        date_time= str(datetime.datetime.now())\n",
    "        \n",
    "        frame = cv.putText(frame, date_time, (30, 30), font, 1, (0,255,150), 2)\n",
    "        \n",
    "        ## similarly we can draw the shapes on the frames and show them on the screen. \n",
    "        \n",
    "        cv.imshow(\"Frame\", frame)\n",
    "        \n",
    "        if cv.waitKey(1) & 0xFF == ord('q'):\n",
    "            break\n",
    "    else:\n",
    "        break\n",
    "cap.release()\n",
    "cv.destroyAllWindows()\n",
    "\n"
   ]
  },
  {
   "cell_type": "code",
   "execution_count": null,
   "id": "fb52bbc1-71a4-4568-bc51-eab260ed0910",
   "metadata": {},
   "outputs": [],
   "source": []
  }
 ],
 "metadata": {
  "kernelspec": {
   "display_name": "Python 3 (ipykernel)",
   "language": "python",
   "name": "python3"
  },
  "language_info": {
   "codemirror_mode": {
    "name": "ipython",
    "version": 3
   },
   "file_extension": ".py",
   "mimetype": "text/x-python",
   "name": "python",
   "nbconvert_exporter": "python",
   "pygments_lexer": "ipython3",
   "version": "3.9.12"
  }
 },
 "nbformat": 4,
 "nbformat_minor": 5
}
