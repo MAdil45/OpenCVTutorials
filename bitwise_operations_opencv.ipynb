{
 "cells": [
  {
   "cell_type": "code",
   "execution_count": 1,
   "id": "f98ed445-e0a8-4ada-b0c4-d39b2835e11f",
   "metadata": {},
   "outputs": [],
   "source": [
    "import cv2 as cv\n",
    "import numpy as np"
   ]
  },
  {
   "cell_type": "code",
   "execution_count": 2,
   "id": "2562b26d-fc8f-4d7d-affc-e3f3781d324c",
   "metadata": {},
   "outputs": [],
   "source": [
    "## bitwise operations are when we need to extract only the required parts of the image. \n",
    "#Consider a situation, in which we need to extract an irregular-shaped object from an image and paste it on another image. \n",
    "#That’s exactly when we use bitwise operations on the image to separate the foreground from the background \n",
    "## CV provides builtin functions - bitwise_and, bitwise_or, and bitwise_not to perform the above tasks\n",
    "## lets read two images\n",
    "\n",
    "img1 = cv.imread(\"./background.png\")\n",
    "img2 = cv.imread(\"./circle.png\")\n",
    "font =  cv.FONT_HERSHEY_SIMPLEX\n",
    "# img1 = cv.putText(img1, \"IMAGE1\", (0,40), font, 1, (0, 0, 255),2)\n",
    "# img2 = cv.putText(img2, \"IMAGE2\", (0,40), font, 1, (0, 0, 255),2)\n",
    "\n",
    "## lets first perfrom bitwise_and operation\n",
    "bitAnd = cv.bitwise_and(img1,img2)\n",
    "bitAnd = cv.putText(bitAnd, \"bitAnd Output\", (10,40), font, 0.7,(0, 0, 255),1) \n",
    "\n",
    "## now lets perform bitwise_or operation\n",
    "bitOr = cv.bitwise_or(img1, img2)\n",
    "bitOr = cv.putText(bitOr, \"bitOr Output\", (10,40), font, 1,(0, 0, 255),2) \n",
    "\n",
    "## now lets perform bitwise_not operation\n",
    "bitNr = cv.bitwise_not(img2)\n",
    "bitNr = cv.putText(bitNr, \"bitNr Output\", (10,40), font, 1,(0, 0, 255),2) \n",
    "\n",
    "##lets show all of them below\n",
    "## lets creat a image and we will paste all of them onto it\n",
    "colorImg = np.zeros((1024, 1024, 3))\n",
    "colorImg[0:223, 0:226] = img1\n",
    "colorImg[0:223, 230:456] = img2\n",
    "colorImg[240:463, 0:226] = bitAnd\n",
    "colorImg[240:463, 230:456] = bitOr\n",
    "colorImg[240:463, 460:686] = bitNr\n",
    "cv.imshow(\"IMAGE1\", colorImg)\n",
    "# cv.imshow(\"IMAGE2\", bitOr)\n",
    "\n",
    "\n",
    "cv.waitKey(0)\n",
    "cv.destroyAllWindows()\n",
    "                "
   ]
  },
  {
   "cell_type": "code",
   "execution_count": 25,
   "id": "c731a07a-d79b-47ae-8ff5-8f6095c5087e",
   "metadata": {},
   "outputs": [],
   "source": [
    "\n"
   ]
  },
  {
   "cell_type": "code",
   "execution_count": 33,
   "id": "57980bb0-c1f2-4e75-848e-aad9b2d425ae",
   "metadata": {},
   "outputs": [],
   "source": [
    "# ## lets extract the moon and paste it onto another image\n",
    "# ## lets extract the shape\n",
    "# img2_shape = moon.shape\n",
    "# ## lets extract the region of interest\n",
    "# roi = img1[0:img2_shape[0], 0:img2_shape[1]]\n",
    "# ## as we will be applying cv.threshold method for moon extraction, we first need to convert the image into \n",
    "# ## grayscale\n",
    "# moon_gr = cv.cvtColor(moon, cv.COLOR_BGR2GRAY)\n",
    "\n",
    "# ## now lets apply the threshold\n",
    "# mask = cv.threshold(moon_gr, 10, 255, cv.THRESH_BINARY)\n",
    "# ## lets invert the mask\n",
    "# inv_mask = cv.bitwise_not(mask)\n",
    "# # night_sky_bg = cv.bitwise_and(roi,roi,mask = inv_mask)\n",
    "\n",
    "# # cv.imshow(\"IMAGE\", night_sky_bg)\n",
    "# # cv.waitKey(0)\n",
    "# # cv.destroyAllWindows()"
   ]
  }
 ],
 "metadata": {
  "kernelspec": {
   "display_name": "Python 3 (ipykernel)",
   "language": "python",
   "name": "python3"
  },
  "language_info": {
   "codemirror_mode": {
    "name": "ipython",
    "version": 3
   },
   "file_extension": ".py",
   "mimetype": "text/x-python",
   "name": "python",
   "nbconvert_exporter": "python",
   "pygments_lexer": "ipython3",
   "version": "3.9.12"
  }
 },
 "nbformat": 4,
 "nbformat_minor": 5
}
