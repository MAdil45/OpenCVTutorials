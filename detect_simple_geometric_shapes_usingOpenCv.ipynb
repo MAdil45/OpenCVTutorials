{
 "cells": [
  {
   "cell_type": "code",
   "execution_count": 1,
   "id": "72d7f201-e71e-40fb-a1d8-e325e37c4182",
   "metadata": {},
   "outputs": [],
   "source": [
    "import cv2 as cv\n",
    "import numpy as np"
   ]
  },
  {
   "cell_type": "code",
   "execution_count": 11,
   "id": "bd775607-46c6-4f36-8e79-be93cf90cd1c",
   "metadata": {},
   "outputs": [],
   "source": [
    "# here we will be detecting simple geometric shapes using opencv. We will be \n",
    "# detecting the shapes and write the names of those shapes on the shape\n",
    "# first thing first, lets read the image\n",
    "\n",
    "img = cv.imread(\"shapes.png\")\n",
    "\n",
    "# converting the image into a gray mode\n",
    "imgGr = cv.cvtColor(img, cv.COLOR_BGR2GRAY)\n",
    "\n",
    "## creating a mask\n",
    "_, thresh = cv.threshold(imgGr, 230, 255, cv.THRESH_BINARY)\n",
    "\n",
    "## finding the contours of the masks\n",
    "contours, _ = cv.findContours(thresh, cv.RETR_TREE, cv.CHAIN_APPROX_NONE)\n",
    "\n",
    "# displaying the image\n",
    "cv.imshow(\"IMAGE\", imgGr)\n",
    "cv.imshow(\"IMAGE GRAY\", thresh)\n",
    "cv.waitKey(0)\n",
    "cv.destroyAllWindows()"
   ]
  },
  {
   "cell_type": "code",
   "execution_count": null,
   "id": "e3b24b44-4873-4b3a-9456-36985a75b8fb",
   "metadata": {},
   "outputs": [],
   "source": []
  }
 ],
 "metadata": {
  "kernelspec": {
   "display_name": "Python 3 (ipykernel)",
   "language": "python",
   "name": "python3"
  },
  "language_info": {
   "codemirror_mode": {
    "name": "ipython",
    "version": 3
   },
   "file_extension": ".py",
   "mimetype": "text/x-python",
   "name": "python",
   "nbconvert_exporter": "python",
   "pygments_lexer": "ipython3",
   "version": "3.9.12"
  }
 },
 "nbformat": 4,
 "nbformat_minor": 5
}
