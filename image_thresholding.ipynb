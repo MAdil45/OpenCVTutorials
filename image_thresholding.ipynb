{
 "cells": [
  {
   "cell_type": "code",
   "execution_count": 2,
   "id": "5117f765-0e6a-459f-a279-1aee3a8c2987",
   "metadata": {},
   "outputs": [],
   "source": [
    "import cv2 as cv\n",
    "import numpy as np"
   ]
  },
  {
   "cell_type": "code",
   "execution_count": 3,
   "id": "015ec1c3-7b96-46a2-9938-d96ec3cbbba0",
   "metadata": {},
   "outputs": [],
   "source": [
    "## Here we will see how to perform image thresholding - it is a popular thechnique and used \n",
    "## to separate bakground from an image - Usually used in image segmentation\n",
    "## here we compare each pixel of an image with a predefined threshold value\n",
    "## this way we can divide all the pixels into two groups- one is below than threshold and other is - \n",
    "## higher than threshold\n",
    "## lets start - \n",
    "## uploading an image - image contains two kind of values - one is closer to '0' and other are closer to'255'\n",
    "img = cv.imread(\"gradient.png\")\n",
    "\n",
    "## lets use the thresolding tehnique - multiple types of thresolding are available-\n",
    "## we will see one by one -starting from cv.THRESH_BINARY - (Either \"0\" or \"1\".)\n",
    "_, thr1 = cv.threshold(img, 120, 255, cv.THRESH_BINARY)\n",
    "\n",
    "\n",
    "## lets see the result\n",
    "cv.imshow(\"IMAGE\", img)\n",
    "cv.imshow(\"THR1\", thr1)\n",
    "\n",
    "cv.waitKey(0)\n",
    "cv.destroyAllWindows()"
   ]
  },
  {
   "cell_type": "code",
   "execution_count": 4,
   "id": "f41d43f4-120d-4f16-9bb8-1c7b8223f370",
   "metadata": {},
   "outputs": [],
   "source": [
    "## Lets see the other thresold types - resuing the code\n",
    "img = cv.imread(\"gradient.png\")\n",
    "\n",
    "## lets use cv.THRESH_BINARY_INV - (It will reverse the \"0\" to \"1\" and vise versa.)\n",
    "_, thr1 = cv.threshold(img, 50, 255, cv.THRESH_BINARY)\n",
    "_, thr2 = cv.threshold(img, 200, 255, cv.THRESH_BINARY_INV)\n",
    "\n",
    "\n",
    "## lets compare the results\n",
    "cv.imshow(\"IMAGE\", img)\n",
    "cv.imshow(\"THR1\", thr1)\n",
    "cv.imshow(\"THR2\", thr2)\n",
    "\n",
    "cv.waitKey(0)\n",
    "cv.destroyAllWindows()"
   ]
  },
  {
   "cell_type": "code",
   "execution_count": 4,
   "id": "06148eba-36e3-443d-8a2d-4609b0a2dc32",
   "metadata": {},
   "outputs": [],
   "source": [
    "img = cv.imread(\"gradient.png\")\n",
    "\n",
    "## lets use cv.THRESH_TRUNC - (The pixel values untill threshol wont change, after that, all the \n",
    "## values will become the thresold values)\n",
    "_, thr3 = cv.threshold(img, 127, 255, cv.THRESH_TRUNC)\n",
    "\n",
    "\n",
    "## lets compare the results\n",
    "cv.imshow(\"IMAGE\", img)\n",
    "cv.imshow(\"THR1\", thr1)\n",
    "cv.imshow(\"THR2\", thr2)\n",
    "cv.imshow(\"THR3\", thr3)\n",
    "\n",
    "\n",
    "cv.waitKey(0)\n",
    "cv.destroyAllWindows()"
   ]
  },
  {
   "cell_type": "code",
   "execution_count": 16,
   "id": "58f70a5c-6435-4c94-92c9-859b5c0a4983",
   "metadata": {},
   "outputs": [],
   "source": [
    "## Lets understand adaptive thresholding\n",
    "## previously, we were setting the global thresholding values - like 50, 127, 200 etc\n",
    "## however, the adaptive thresholding computes the thresolding values for small regions of the \n",
    "## image, where each region of the image has its own unique value\n",
    "## it is useful where the lightening conditions varies from region to region\n",
    "## lets read an image\n",
    "img = cv.imread(\"./sudoku.png\", 0)\n",
    "\n",
    "## lets first use the simple thresholding technique, which is THRESH.BINARY()\n",
    "_, thr1 = cv.threshold(img, 127, 255, cv.THRESH_BINARY)\n",
    "\n",
    "## lets now use the cv.adaptiveThreshold()\n",
    "## We will need to provide adaptive method. There are two types of adaptive methods:\n",
    "## ADAPTIVE_THRESH_GAUSSIAN_C() and ADAPTIVE_THRESH_MEAN_C() -  we will be using later one\n",
    "\n",
    "thr2 = cv.adaptiveThreshold(img, 255, cv.ADAPTIVE_THRESH_MEAN_C, cv.THRESH_BINARY,11, 5)\n",
    "thr3 = cv.adaptiveThreshold(img, 255, cv.ADAPTIVE_THRESH_GAUSSIAN_C, cv.THRESH_BINARY,11, 5)\n",
    "\n",
    "## lets show that image\n",
    "cv.imshow(\"IMAGE\", img)\n",
    "cv.imshow(\"THRESH\", thr1)\n",
    "cv.imshow(\"THRESH2\", thr2)\n",
    "cv.imshow(\"THRESH3\", thr3)\n",
    "\n",
    "\n",
    "cv.waitKey(0)\n",
    "cv.destroyAllWindows()"
   ]
  },
  {
   "cell_type": "code",
   "execution_count": null,
   "id": "33fff905-a7b9-425d-89ed-af7c2f4db367",
   "metadata": {},
   "outputs": [],
   "source": []
  }
 ],
 "metadata": {
  "kernelspec": {
   "display_name": "Python 3 (ipykernel)",
   "language": "python",
   "name": "python3"
  },
  "language_info": {
   "codemirror_mode": {
    "name": "ipython",
    "version": 3
   },
   "file_extension": ".py",
   "mimetype": "text/x-python",
   "name": "python",
   "nbconvert_exporter": "python",
   "pygments_lexer": "ipython3",
   "version": "3.9.12"
  }
 },
 "nbformat": 4,
 "nbformat_minor": 5
}
