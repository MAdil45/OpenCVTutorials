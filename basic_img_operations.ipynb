{
 "cells": [
  {
   "cell_type": "code",
   "execution_count": 22,
   "id": "a6240a76-4cf0-4950-937e-bcaea5e7de91",
   "metadata": {},
   "outputs": [],
   "source": [
    "import cv2 as cv\n",
    "import numpy as np\n"
   ]
  },
  {
   "cell_type": "code",
   "execution_count": 17,
   "id": "cc276d80-270a-4b73-bf41-5c469fe5580a",
   "metadata": {},
   "outputs": [
    {
     "name": "stdout",
     "output_type": "stream",
     "text": [
      "Image Shape:  (342, 548, 3) \n",
      "Total Number of pixels:  562248 \n",
      "Image Dtype:  uint8\n"
     ]
    }
   ],
   "source": [
    "## Lets read a image\n",
    "img = cv.imread(\"messi5.jpg\")\n",
    "print(\"Image Shape: \",img.shape, \"\\nTotal Number of pixels: \", img.size, '\\nImage Dtype: ', img.dtype)\n",
    "## splitting the image into three channels and and merging them to an image again\n",
    "b,g,r = cv.split(img)\n",
    "img= cv.merge((b,g,r))\n",
    "cv.imshow(\"IMAGE\", img)\n",
    "cv.waitKey(0)\n",
    "cv.destroyAllWindows()"
   ]
  },
  {
   "cell_type": "code",
   "execution_count": null,
   "id": "be1ed7cb-4488-4e69-9b28-e7d6592bfae9",
   "metadata": {},
   "outputs": [],
   "source": []
  },
  {
   "cell_type": "code",
   "execution_count": 18,
   "id": "7782c9ae-af82-4146-aa91-cb04d6ed529e",
   "metadata": {},
   "outputs": [],
   "source": [
    "## lets understand how to work with ROI (Regions of interest). Which part of the image you want to work\n",
    "## I already extracted the coordinates of image by mouseclick event\n",
    "## i am going to take the ball of messi.jpg image and paste it somewehre else\n",
    "## the coordinates of the ball are:\n",
    "ball = img[280:340, 330:390]\n",
    "## lets place the ball \n",
    "img[273:333, 100:160] = ball\n",
    "## now lets show the image to see what happends\n",
    "cv.imshow(\"IMAGE\", img)\n",
    "cv.waitKey(0)\n",
    "cv.destroyAllWindows()"
   ]
  },
  {
   "cell_type": "code",
   "execution_count": 19,
   "id": "931383d4-21d5-4138-9195-a90df2a5935c",
   "metadata": {},
   "outputs": [
    {
     "data": {
      "text/plain": [
       "(512, 512, 3)"
      ]
     },
     "execution_count": 19,
     "metadata": {},
     "output_type": "execute_result"
    }
   ],
   "source": [
    "## lets add two images now\n",
    " ## lets read a image\n",
    "img2 = cv.imread(\"Lena_Copy_2.png\")\n",
    "img2.shape"
   ]
  },
  {
   "cell_type": "code",
   "execution_count": 20,
   "id": "c4b03c53-4a40-4f55-b2fc-84cc70b7610c",
   "metadata": {},
   "outputs": [],
   "source": [
    "## we can add these two images using cv.add()\n",
    "# img3 = cv.add(img, img2, )\n",
    "## this will throw an error due size mismatching\n",
    "## to overcome this, we can first resize the images and add them\n",
    "img = cv.resize(img, (512, 512))\n",
    "img2 = cv.resize(img2, (512, 512))\n",
    "\n",
    "# Now lets add them again\n",
    "\n",
    "img3 = cv.add(img, img2,)\n",
    "cv.imshow(\"IMAGE\", img3)\n",
    "cv.waitKey(0)\n",
    "cv.destroyAllWindows()"
   ]
  },
  {
   "cell_type": "code",
   "execution_count": 21,
   "id": "1f6001a8-d2df-44ca-bc9e-ebb671817acd",
   "metadata": {},
   "outputs": [],
   "source": [
    "## lets say we want to add the images but with different weights. For that, we can use cv.addWeighted()\n",
    "# lets see how does this work\n",
    "\n",
    "img4 = cv.addWeighted(img, 0.2, img2, 0.8, 0)\n",
    "\n",
    "## now lets display the image\n",
    "cv.imshow(\"IMAGE\", img4)\n",
    "cv.waitKey(0)\n",
    "cv.destroyAllWindows()"
   ]
  },
  {
   "cell_type": "code",
   "execution_count": null,
   "id": "cd93a5d9-30f2-4d0f-9389-0ad1a0a0a6d8",
   "metadata": {},
   "outputs": [],
   "source": []
  }
 ],
 "metadata": {
  "kernelspec": {
   "display_name": "Python 3 (ipykernel)",
   "language": "python",
   "name": "python3"
  },
  "language_info": {
   "codemirror_mode": {
    "name": "ipython",
    "version": 3
   },
   "file_extension": ".py",
   "mimetype": "text/x-python",
   "name": "python",
   "nbconvert_exporter": "python",
   "pygments_lexer": "ipython3",
   "version": "3.9.12"
  }
 },
 "nbformat": 4,
 "nbformat_minor": 5
}
